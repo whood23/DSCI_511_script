{
 "cells": [
  {
   "cell_type": "code",
   "execution_count": null,
   "metadata": {},
   "outputs": [],
   "source": [
    "'''\n",
    "Willie Hood & Jamia Mason\n",
    "Webscraping Script\n",
    "site: https://www.animefillerlist.com/\n",
    "'''"
   ]
  },
  {
   "cell_type": "markdown",
   "metadata": {},
   "source": [
    "#### Create initial Dataframe"
   ]
  },
  {
   "cell_type": "code",
   "execution_count": null,
   "metadata": {},
   "outputs": [],
   "source": [
    "import requests\n",
    "from bs4 import BeautifulSoup\n",
    "\n",
    "url = 'https://www.animefillerlist.com/shows'\n",
    "url_request = BeautifulSoup(requests.get(url).text)\n",
    "\n",
    "rough_links = []\n",
    "rough_names = []\n",
    "for i in url_request.find_all('a'):\n",
    "    rough_links.append(i.get('href'))\n",
    "for i in url_request.find_all('a',href=True):\n",
    "    rough_names.append(i.string)\n",
    "\n",
    "clean_links = []\n",
    "clean_names = []\n",
    "refrence_url = 'https://www.animefillerlist.com'\n",
    "for i in range(11,318):\n",
    "    clean_links.append(refrence_url+rough_links[i])\n",
    "    clean_names.append(rough_names[i])\n",
    "\n",
    "import pandas as pd\n",
    "clean_dict = {'Anime Name': clean_names,\n",
    "              'Info Links': clean_links}\n",
    "anime_df = pd.DataFrame(clean_dict)\n",
    "display(anime_df)"
   ]
  },
  {
   "cell_type": "markdown",
   "metadata": {},
   "source": [
    "#### Create final dataframe"
   ]
  },
  {
   "cell_type": "code",
   "execution_count": null,
   "metadata": {},
   "outputs": [],
   "source": [
    "import re\n",
    "import pandas as pd\n",
    "import requests\n",
    "from bs4 import BeautifulSoup\n",
    "'''\n",
    "extend_dataframe: Used to add the correct columns to the original dataframe\n",
    "data_shaper: used to append the web scraped data to the original dataframe.\n",
    "show_filter: used to filter through the different attributes on the webpage.\n",
    "duplicate_removal: used to remove duplicate episodes from the filler and mixed episode counts.\n",
    "storage_checker: This is used to back the logic in data_shaper function. It ensures no episodes were counted twice in the storages and adds N/A to any storage with no entries.\n",
    "show_####_filter: used to sort through attributes in the webpages\n",
    "'''\n",
    "def extend_dataframe(dataframe):\n",
    "    new_columns = ['Total Episodes','Manga Canon Eps','Anime Canon Eps',\n",
    "                   'Filler Eps','Mixed Canon/Filler Eps']\n",
    "    for i in new_columns:\n",
    "        dataframe[i] = 'N/A'\n",
    "    return dataframe\n",
    "\n",
    "def data_shaper(dataset):\n",
    "    for show_url in range(len(dataset)):\n",
    "        manga,anime,mixed,filler = show_filter(BeautifulSoup(requests.get(dataset['Info Links'][show_url]).text))\n",
    "        dataset['Manga Canon Eps'][show_url] = 'N/A' if manga=='N/A' else len(manga)\n",
    "        dataset['Anime Canon Eps'][show_url] = 'N/A' if anime=='N/A' else len(anime)\n",
    "        dataset['Filler Eps'][show_url] = 'N/A' if filler=='N/A' else len(filler)\n",
    "        dataset['Mixed Canon/Filler Eps'][show_url] = 'N/A' if mixed=='N/A' else len(mixed)\n",
    "\n",
    "        dataset['Total Episodes'] = dataset['Manga Canon Eps']+dataset['Anime Canon Eps']+dataset['Filler Eps']+dataset['Mixed Canon/Filler Eps']\n",
    "    return dataset\n",
    "\n",
    "def show_filter(url_request):\n",
    "    manga_storage = storage_checker(show_manga_filter(url_request))\n",
    "    anime_storage = storage_checker(show_anime_filter(url_request))\n",
    "    mixed_storage = storage_checker(show_mixed_filter(url_request))\n",
    "    filler_storage = storage_checker(show_filler_filter(url_request))\n",
    "\n",
    "    if mixed_storage != 'N/A' and filler_storage != 'N/A':\n",
    "        filler_storage,mixed_storage = duplicate_removal(mixed_storage,filler_storage)\n",
    "\n",
    "    return manga_storage,anime_storage,mixed_storage,filler_storage\n",
    "\n",
    "def duplicate_removal(mixed,filler):\n",
    "    if len(filler) > len(mixed):\n",
    "        filler = list(set(filler).difference(mixed))\n",
    "    else:\n",
    "        mixed = list(set(mixed).difference(filler))\n",
    "    return filler, mixed\n",
    "\n",
    "def storage_checker(storage):\n",
    "    if set(storage) != 0:\n",
    "        storage = list(set(storage))\n",
    "    else: storage = 'N/A'\n",
    "    return storage\n",
    "\n",
    "def show_manga_filter(url_request):\n",
    "    manga_storage = []\n",
    "    for i in url_request.find_all('tr',{'class': re.compile('manga.*')}):\n",
    "        for ii in i.find_all('td',{'class': re.compile('Number.*')}):\n",
    "            manga_storage.append(int(ii.next_element))\n",
    "    return manga_storage\n",
    "\n",
    "def show_anime_filter(url_request):\n",
    "    anime_storage = []\n",
    "    for i in url_request.find_all('tr',{'class': re.compile('anime.*')}):\n",
    "        for ii in i.find_all('td',{'class': re.compile('Number.*')}):\n",
    "            anime_storage.append(int(ii.next_element))\n",
    "    return anime_storage\n",
    "\n",
    "def show_mixed_filter(url_request):\n",
    "    mixed_storage = []\n",
    "    for i in url_request.find_all('tr',{'class': re.compile('mixed.*')}):\n",
    "        for ii in i.find_all('td',{'class': re.compile('Number.*')}):\n",
    "            mixed_storage.append(int(ii.next_element))\n",
    "    return mixed_storage\n",
    "\n",
    "def show_filler_filter(url_request):\n",
    "    filler_storage = []\n",
    "    for i in url_request.find_all('tr',{'class': re.compile('filler.*')}):\n",
    "        for ii in i.find_all('td',{'class': re.compile('Number.*')}):\n",
    "            filler_storage.append(int(ii.next_element))\n",
    "    return filler_storage"
   ]
  },
  {
   "cell_type": "code",
   "execution_count": null,
   "metadata": {},
   "outputs": [],
   "source": [
    "final_anime_df = data_shaper(extend_dataframe(anime_df))\n",
    "display(final_anime_df)"
   ]
  }
 ],
 "metadata": {
  "interpreter": {
   "hash": "843f39171b293289983ed83d13faa64f89a7591d8830a6c9d7eb49eb45dd0c94"
  },
  "kernelspec": {
   "display_name": "Python 3.9.5 64-bit",
   "language": "python",
   "name": "python3"
  },
  "language_info": {
   "codemirror_mode": {
    "name": "ipython",
    "version": 3
   },
   "file_extension": ".py",
   "mimetype": "text/x-python",
   "name": "python",
   "nbconvert_exporter": "python",
   "pygments_lexer": "ipython3",
   "version": "3.8.8"
  },
  "orig_nbformat": 4
 },
 "nbformat": 4,
 "nbformat_minor": 2
}
