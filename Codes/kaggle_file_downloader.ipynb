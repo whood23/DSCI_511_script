{
 "cells": [
  {
   "cell_type": "code",
   "execution_count": null,
   "metadata": {},
   "outputs": [],
   "source": [
    "def downloadpathlib ():\n",
    "    import os, sys, subprocess\n",
    "    moduleCheck = 'pathlib' in sys.modules\n",
    "    if moduleCheck!=True:\n",
    "        subprocess.check_call([sys.executable, '-m', 'pip', 'install', \n",
    "'pathlib'])\n",
    "    return \"Pathlb Sucessufully downloaded\"\n",
    "\n",
    "downloadpathlib()\n",
    "\n",
    "def createfile():\n",
    "    import shutil, os, sys\n",
    "    from pathlib import Path\n",
    "    desktop = str(Path.home())\n",
    "    filepath = os.path.join(desktop,\".kaggle\")\n",
    "    ticket = \"kaggle.json\"\n",
    "    '''This section of code will manage directory and force it to create the necessary file for kaggle to reside'''\n",
    "    if os.path.exists(filepath)!=True:\n",
    "        os.makedirs(filepath); print(\"File path created...\\nscript resuming...\")\n",
    "    else:\n",
    "        print(\"File path Found!\")\n",
    "    '''After sucessful creation of the new directory, the kaggle ticket will be added'''\n",
    "    jsonfile = os.path.join(filepath, ticket)\n",
    "    jsoncheck = os.path.isfile(jsonfile)\n",
    "    ticketloc = os.path.join(desktop,\"Downloads\",ticket)\n",
    "    loopPrevent=0\n",
    "    while loopPrevent<=5:\n",
    "        if jsoncheck!=True: shutil.copy(ticketloc, jsonfile); jsoncheck = os.path.isfile(jsonfile); loopPrevent+=1\n",
    "        if jsoncheck==True: break\n",
    "    if jsoncheck==True: print(\"Ticket sucessfully created!\")\n",
    "    else: print(\"Ticket was unable to be copied to directory\")\n",
    "  \n",
    "createfile()\n",
    "\n",
    "'''This function determines if kaggle is installed in python directory, if not it is downloaded. It also reloads python to make sure new install is viewable.'''\n",
    "def downloadkaggle():\n",
    "    import os, sys, subprocess\n",
    "    moduleCheck = 'kaggle' in sys.modules\n",
    "    if moduleCheck!=True:\n",
    "        subprocess.check_call([sys.executable, '-m', 'pip', 'install', \n",
    "'kaggle'])\n",
    "    return \"Kaggle Sucessufully downloaded\"\n",
    "\n",
    "downloadkaggle()\n",
    "\n",
    "'''This section accesses the database to download the file'''\n",
    "\n",
    "import os, sys, kaggle\n",
    "from kaggle.api.kaggle_api_extended import KaggleApi\n",
    "api = KaggleApi()\n",
    "api.authenticate()\n",
    "\n",
    "api.dataset_download_file('daffashiddiq/kpop-4th-gen-sales','Kpop 4th gen Sales - Sheet1.csv')\n",
    "print(\"File sucessfully created\")\n",
    "\n",
    "def renamefile():\n",
    "    import os\n",
    "    if os.path.isfile(\"Kpop%204th%20gen%20Sales%20-%20Sheet1.csv\")==True:\n",
    "        os.rename(\"Kpop%204th%20gen%20Sales%20-%20Sheet1.csv\",\"kpop_data.csv\")\n",
    "\n",
    "renamefile()"
   ]
  }
 ],
 "metadata": {
  "interpreter": {
   "hash": "d7aa93e3a21d08b6ba70af284853c9a001469e12e0e79d919bd867503abf84f0"
  },
  "kernelspec": {
   "display_name": "Python 3.8.8 64-bit ('base': conda)",
   "name": "python3"
  },
  "language_info": {
   "codemirror_mode": {
    "name": "ipython",
    "version": 3
   },
   "file_extension": ".py",
   "mimetype": "text/x-python",
   "name": "python",
   "nbconvert_exporter": "python",
   "pygments_lexer": "ipython3",
   "version": "3.8.8"
  }
 },
 "nbformat": 4,
 "nbformat_minor": 2
}
